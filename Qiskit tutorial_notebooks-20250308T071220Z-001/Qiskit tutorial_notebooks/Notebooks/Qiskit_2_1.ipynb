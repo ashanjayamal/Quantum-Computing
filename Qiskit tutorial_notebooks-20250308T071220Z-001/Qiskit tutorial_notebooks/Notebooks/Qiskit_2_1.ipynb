{
 "cells": [
  {
   "cell_type": "markdown",
   "id": "42ac9d8a-0f6e-4413-b236-f80bf3efcb01",
   "metadata": {},
   "source": [
    "# Programming with qiskit"
   ]
  },
  {
   "cell_type": "markdown",
   "id": "3c6f99c1-fc98-4dad-bbbf-0f81e54240b2",
   "metadata": {},
   "source": [
    "## Let's create a Bell State"
   ]
  },
  {
   "cell_type": "markdown",
   "id": "90303a4a-018c-43df-a73c-eed8d8056d26",
   "metadata": {},
   "source": [
    "<img src=\"bellstate.png\" alt=\"Token\" width=\"600\">"
   ]
  },
  {
   "cell_type": "code",
   "execution_count": null,
   "id": "bfced982-2a66-4233-8484-5f52d87fd3b3",
   "metadata": {},
   "outputs": [],
   "source": [
    "#Importing QuantumCircuit from qiskit\n",
    "\n",
    "from qiskit import QuantumCircuit"
   ]
  },
  {
   "cell_type": "code",
   "execution_count": null,
   "id": "c1bb56df-9a9f-406a-b03f-083e186085e4",
   "metadata": {},
   "outputs": [],
   "source": [
    "# Setting the number of qubits\n",
    "\n",
    "qc=QuantumCircuit(2)"
   ]
  },
  {
   "cell_type": "code",
   "execution_count": null,
   "id": "f4997af2-7e45-4e06-a742-811379e7b69e",
   "metadata": {},
   "outputs": [],
   "source": [
    "# Designing the circuit by adding Gates and Measurements\n",
    "\n",
    "qc.h(0)\n",
    "qc.cx(0,1)\n",
    "qc.measure_all()"
   ]
  },
  {
   "cell_type": "code",
   "execution_count": null,
   "id": "703a3738-3b9f-43a7-9bd3-a2d6996be132",
   "metadata": {},
   "outputs": [],
   "source": [
    "qc.draw(output='mpl')"
   ]
  },
  {
   "cell_type": "code",
   "execution_count": null,
   "id": "4487d38a-45a1-4a46-be9d-e9b23df8be4d",
   "metadata": {},
   "outputs": [],
   "source": [
    "# Importing necessary packages to simulate results\n",
    "\n",
    "from qiskit import transpile\n",
    "from qiskit_aer import AerSimulator"
   ]
  },
  {
   "cell_type": "code",
   "execution_count": null,
   "id": "5f7d4f49-37f7-4dfe-a924-f509c1fb664d",
   "metadata": {},
   "outputs": [],
   "source": [
    "backend = AerSimulator()\n",
    "transpiled_qc = transpile(qc, backend)\n",
    "job = backend.run(transpiled_qc, shots=100)    # Shots: Numbers of times the algorithm is run and measured\n",
    "counts = job.result().get_counts()\n",
    "print(counts)"
   ]
  },
  {
   "cell_type": "code",
   "execution_count": null,
   "id": "597b2b84-04a5-4b2f-a582-e4cdae97ab0d",
   "metadata": {},
   "outputs": [],
   "source": [
    "# Plotting the results from the simulations\n",
    "\n",
    "from qiskit.visualization import plot_histogram\n",
    "plot_histogram(counts)"
   ]
  },
  {
   "cell_type": "code",
   "execution_count": null,
   "id": "f9acf456-e4ca-412f-8522-1a44da83acac",
   "metadata": {},
   "outputs": [],
   "source": []
  }
 ],
 "metadata": {
  "kernelspec": {
   "display_name": "Python 3 (ipykernel)",
   "language": "python",
   "name": "python3"
  },
  "language_info": {
   "codemirror_mode": {
    "name": "ipython",
    "version": 3
   },
   "file_extension": ".py",
   "mimetype": "text/x-python",
   "name": "python",
   "nbconvert_exporter": "python",
   "pygments_lexer": "ipython3",
   "version": "3.11.4"
  }
 },
 "nbformat": 4,
 "nbformat_minor": 5
}

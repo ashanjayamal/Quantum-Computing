{
 "cells": [
  {
   "cell_type": "markdown",
   "id": "114e42e8-fedc-4c57-95b7-f89ff109de93",
   "metadata": {},
   "source": [
    "# Start with Qiskit\n",
    "<img src=\"Screenshot 2025-03-05 222223.png\" alt=\"Token\" width=\"1200\">"
   ]
  },
  {
   "cell_type": "markdown",
   "id": "7be26cf7-d56d-4385-91ff-dde76029448c",
   "metadata": {},
   "source": [
    "### Installing Qiskit\n",
    "\n",
    "If you have alreadly installed Qiskit, you may skip this part. If not, let us install Qiskit first. Uncomment an run un the code relevant to your operating system from the below cells."
   ]
  },
  {
   "cell_type": "code",
   "execution_count": 1,
   "id": "39ab4fd5-1d52-4267-a306-54676af9e4ae",
   "metadata": {},
   "outputs": [],
   "source": [
    "### INSTALL QISKIT: Locally on a Windows ###\n",
    "\n",
    "#%pip install qiskit[visualization]==1.0.2"
   ]
  },
  {
   "cell_type": "code",
   "execution_count": 2,
   "id": "c62d3c06-02a8-4769-b3a5-200c3c10973a",
   "metadata": {},
   "outputs": [],
   "source": [
    "### INSTALL QISKIT: Locally on a Mac or Linux ###\n",
    "\n",
    "#pip install 'qiskit[visualization]'==1.0.2"
   ]
  },
  {
   "cell_type": "markdown",
   "id": "024e061d-0836-43f9-a2c4-7245e13adc86",
   "metadata": {},
   "source": [
    "### Let us now import Qiskit and check things out..."
   ]
  },
  {
   "cell_type": "code",
   "execution_count": 1,
   "id": "2de9e365-67f6-426e-ae39-ff19658d5580",
   "metadata": {},
   "outputs": [
    {
     "name": "stdout",
     "output_type": "stream",
     "text": [
      "qiskit version : 1.4.0\n"
     ]
    }
   ],
   "source": [
    "import qiskit\n",
    "print(\"qiskit version :\", qiskit.__version__)"
   ]
  },
  {
   "cell_type": "markdown",
   "id": "b9125f89-6206-45a9-ba94-e09d0b844104",
   "metadata": {},
   "source": [
    "### We will need some more packages..."
   ]
  },
  {
   "cell_type": "code",
   "execution_count": 4,
   "id": "f6672c7d-35d6-4ac7-8eaf-71f3123f8e83",
   "metadata": {},
   "outputs": [],
   "source": [
    "### Install the other required packages as well\n",
    "\n",
    "#%pip install qiskit_aer\n",
    "#%pip install qiskit_ibm_runtime\n",
    "#%pip install matplotlib\n",
    "#%pip install qiskit-transpiler-service"
   ]
  },
  {
   "cell_type": "markdown",
   "id": "849806ed-6016-404c-bb5d-00ed835e4679",
   "metadata": {},
   "source": [
    "# https://quantum.ibm.com/"
   ]
  },
  {
   "cell_type": "markdown",
   "id": "1dc1750f-c7fe-4218-8b5a-52c5a0221871",
   "metadata": {},
   "source": [
    "### Configuring the environment and connecting to the IBM Quantum Processing Units\n",
    "\n",
    "<img src=\"Screenshot 2025-03-05 211056.png\" alt=\"Token\" width=\"1200\">\n",
    "------------------------------------------------------------------------------------------------------------------------------------------------------------------------------------------------\n",
    "<img src=\"Screenshot 2025-03-05 213042.png\" alt=\"Token\" width=\"1200\">\n"
   ]
  },
  {
   "cell_type": "code",
   "execution_count": 2,
   "id": "616fa5d9-9076-440b-9017-2f892fc7a11b",
   "metadata": {},
   "outputs": [],
   "source": [
    "from qiskit_ibm_runtime import QiskitRuntimeService"
   ]
  },
  {
   "cell_type": "code",
   "execution_count": null,
   "id": "40baa3e1-f7d7-4398-80fa-a59537e2cc9f",
   "metadata": {},
   "outputs": [],
   "source": [
    "service = QiskitRuntimeService(channel=\"ibm_quantum\",\n",
    "                              token = #\"Add your token here\")"
   ]
  },
  {
   "cell_type": "code",
   "execution_count": 5,
   "id": "eec570ee-7fdd-4555-8408-7ed686b0c0e5",
   "metadata": {},
   "outputs": [],
   "source": [
    "backend= service.backend(name='ibm_brisbane')"
   ]
  },
  {
   "cell_type": "code",
   "execution_count": 6,
   "id": "342c7d14-f882-490c-941b-0533626d5860",
   "metadata": {},
   "outputs": [
    {
     "data": {
      "text/plain": [
       "127"
      ]
     },
     "execution_count": 6,
     "metadata": {},
     "output_type": "execute_result"
    }
   ],
   "source": [
    "backend.num_qubits"
   ]
  },
  {
   "cell_type": "code",
   "execution_count": null,
   "id": "935a3b7f-c082-4a73-833b-2018c086796c",
   "metadata": {},
   "outputs": [],
   "source": []
  }
 ],
 "metadata": {
  "kernelspec": {
   "display_name": "Python 3 (ipykernel)",
   "language": "python",
   "name": "python3"
  },
  "language_info": {
   "codemirror_mode": {
    "name": "ipython",
    "version": 3
   },
   "file_extension": ".py",
   "mimetype": "text/x-python",
   "name": "python",
   "nbconvert_exporter": "python",
   "pygments_lexer": "ipython3",
   "version": "3.11.4"
  }
 },
 "nbformat": 4,
 "nbformat_minor": 5
}
